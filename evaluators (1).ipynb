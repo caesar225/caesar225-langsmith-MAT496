{
 "cells": [
  {
   "cell_type": "markdown",
   "metadata": {},
   "source": [
    "# Evaluators"
   ]
  },
  {
   "cell_type": "markdown",
   "metadata": {},
   "source": [
    "At a high-level, an evaluator judges an invocation of your LLM application against a reference example, and returns an evaluation score.\n",
    "\n",
    "In LangSmith evaluators, we represent this process as a function that takes in a Run (representing the LLM app invocation) and an Example (representing the data point to evaluate), and returns Feedback (representing the evaluator's score of the LLM app invocation)."
   ]
  },
  {
   "cell_type": "markdown",
   "metadata": {},
   "source": [
    "Here is an example of a very simple custom evaluator that compares the output of a model to the expected output in the dataset:"
   ]
  },
  {
   "cell_type": "code",
   "execution_count": 1,
   "metadata": {},
   "outputs": [],
   "source": [
    "from langsmith.schemas import Example, Run\n",
    "\n",
    "def correct_label(inputs: dict, reference_outputs: dict, outputs: dict) -> dict:\n",
    "  score = outputs.get(\"output\") == reference_outputs.get(\"label\")\n",
    "  return {\"score\": int(score), \"key\": \"correct_label\"}"
   ]
  },
  {
   "cell_type": "markdown",
   "metadata": {},
   "source": [
    "### LLM-as-Judge Evaluation"
   ]
  },
  {
   "cell_type": "markdown",
   "metadata": {},
   "source": [
    "LLM-as-judge evaluators use LLMs to score system output. To use them, you typically encode the grading rules / criteria in the LLM prompt. They can be reference-free (e.g., check if system output contains offensive content or adheres to specific criteria). Or, they can compare task output to a reference (e.g., check if the output is factually accurate relative to the reference).\n",
    "\n",
    "Here is an example of how you might define an LLM-as-judge evaluator with structured output"
   ]
  },
  {
   "cell_type": "code",
   "execution_count": 2,
   "metadata": {},
   "outputs": [
    {
     "name": "stdout",
     "output_type": "stream",
     "text": [
      "LangSmith Key Set: True\n"
     ]
    }
   ],
   "source": [
    "from dotenv import load_dotenv\n",
    "load_dotenv()  \n",
    "\n",
    "import os\n",
    "print(\"LangSmith Key Set:\", os.getenv(\"LANGCHAIN_API_KEY\") is not None)\n"
   ]
  },
  {
   "cell_type": "code",
   "execution_count": 5,
   "metadata": {},
   "outputs": [],
   "source": [
    "from langchain_groq import ChatGroq\n",
    "from langchain_core.messages import HumanMessage, SystemMessage\n",
    "\n",
    "llm = ChatGroq(model=\"llama-3.3-70b-versatile\", temperature=0)\n",
    "\n",
    "def compare_semantic_similarity(inputs: dict, reference_outputs: dict, outputs: dict) -> dict:\n",
    "    input_question = inputs[\"question\"]\n",
    "    reference_response = reference_outputs[\"output\"]\n",
    "    run_response = outputs[\"output\"]\n",
    "\n",
    "    system_prompt = (\n",
    "        \"You are a semantic similarity evaluator. Compare the meanings of two responses to a question: \"\n",
    "        \"Reference Response and Run Response. The reference is the correct answer. \"\n",
    "        \"Provide a score between 1 and 10, where 1 means completely unrelated, and 10 means identical in meaning. \"\n",
    "        \"Respond ONLY with a number.\"\n",
    "    )\n",
    "\n",
    "    user_prompt = (\n",
    "        f\"Question: {input_question}\\n\"\n",
    "        f\"Reference Response: {reference_response}\\n\"\n",
    "        f\"Run Response: {run_response}\"\n",
    "    )\n",
    "\n",
    "    # Use Groq LLM to generate the similarity score\n",
    "    result = llm.invoke([\n",
    "        SystemMessage(content=system_prompt),\n",
    "        HumanMessage(content=user_prompt)\n",
    "    ])\n",
    "\n",
    "    # Extract integer from result (e.g., \"8\")\n",
    "    try:\n",
    "        score = int(result.content.strip())\n",
    "    except ValueError:\n",
    "        score = 0  # fallback if LLM gives a non-integer\n",
    "\n",
    "    return {\"score\": score, \"key\": \"semantic_similarity\"}\n"
   ]
  },
  {
   "cell_type": "markdown",
   "metadata": {},
   "source": [
    "Let's try this out!\n",
    "\n",
    "NOTE: We purposely made this answer wrong, so we expect to see a low score."
   ]
  },
  {
   "cell_type": "code",
   "execution_count": 7,
   "metadata": {},
   "outputs": [
    {
     "name": "stdout",
     "output_type": "stream",
     "text": [
      "Semantic similarity score: {'score': 9, 'key': 'semantic_similarity'}\n"
     ]
    }
   ],
   "source": [
    "# From Dataset Example\n",
    "inputs = {\n",
    "  \"question\": \"How do you choose the right chunk size for a RAG pipeline?\"\n",
    "}\n",
    "reference_outputs = {\n",
    "  \"output\": \"Chunk size should balance context completeness and token limits. Smaller chunks may miss important context, while larger ones can exceed token limits or dilute relevance.\"\n",
    "}\n",
    "\n",
    "\n",
    "# From Run\n",
    "outputs = {\n",
    "  \"output\": \"The chunk size should strike a balance between preserving meaningful context and staying within token limits. If chunks are too small, they may lose important information; if too large, they can exceed token constraints or reduce retrieval accuracy.\"\n",
    "}\n",
    "\n",
    "similarity_score = compare_semantic_similarity(inputs, reference_outputs, outputs)\n",
    "print(f\"Semantic similarity score: {similarity_score}\")"
   ]
  },
  {
   "cell_type": "markdown",
   "metadata": {},
   "source": [
    "You can also define evaluators using Run and Example directly!"
   ]
  },
  {
   "cell_type": "code",
   "execution_count": 9,
   "metadata": {},
   "outputs": [],
   "source": [
    "from langsmith.schemas import Run, Example\n",
    "from langchain_groq import ChatGroq\n",
    "from langchain_core.messages import SystemMessage, HumanMessage\n",
    "\n",
    "groq_llm = ChatGroq(model=\"llama-3.3-70b-versatile\", temperature=0)\n",
    "\n",
    "def compare_semantic_similarity_v2(root_run: Run, example: Example):\n",
    "    input_question = example.inputs[\"question\"]\n",
    "    reference_response = example.outputs[\"output\"]\n",
    "    run_response = root_run.outputs[\"output\"]\n",
    "\n",
    "    # Prompt the LLM\n",
    "    messages = [\n",
    "        SystemMessage(\n",
    "            content=(\n",
    "                \"You are a semantic similarity evaluator. Compare the meanings of two responses to a question: \"\n",
    "                \"Reference Response and Run Response. Provide a score between 1 and 10, where 1 means completely unrelated and 10 means identical in meaning. \"\n",
    "                \"Respond ONLY with a number.\"\n",
    "            )\n",
    "        ),\n",
    "        HumanMessage(\n",
    "            content=(\n",
    "                f\"Question: {input_question}\\n\\n\"\n",
    "                f\"Reference Response: {reference_response}\\n\\n\"\n",
    "                f\"Run Response: {run_response}\"\n",
    "            )\n",
    "        )\n",
    "    ]\n",
    "\n",
    "    response = groq_llm.invoke(messages)\n",
    "    \n",
    "    try:\n",
    "        score = int(response.content.strip())\n",
    "    except ValueError:\n",
    "        score = 0  # fallback in case the model does not return a number\n",
    "\n",
    "    return {\"score\": score, \"key\": \"similarity\"}\n"
   ]
  },
  {
   "cell_type": "code",
   "execution_count": 14,
   "metadata": {},
   "outputs": [
    {
     "name": "stdout",
     "output_type": "stream",
     "text": [
      "Semantic similarity score: {'score': 2, 'key': 'similarity'}\n"
     ]
    }
   ],
   "source": [
    "sample_run = {\n",
    "  \"name\": \"Sample Run\",\n",
    "  \"inputs\": {\n",
    "    \"question\": \"What vector stores are commonly used in RAG?\"\n",
    "  },\n",
    "  \"outputs\": {\n",
    "    \"output\": \"Common vector stores include FAISS, Pinecone, Weaviate, Chroma, Qdrant, and even lightweight ones like SKLearnVectorStore for local setups.\"\n",
    "  },\n",
    "  \"is_root\": True,\n",
    "  \"status\": \"success\",\n",
    "  \"extra\": {\n",
    "    \"metadata\": {\n",
    "      \"key\": \"value\"\n",
    "    }\n",
    "  }\n",
    "}\n",
    "\n",
    "sample_example = {\n",
    "  \"inputs\": {\n",
    "    \"question\": \"Is it possible to use hybrid search in a RAG system?\"\n",
    "  },\n",
    "  \"outputs\": {\n",
    "    \"output\": \"Yes, hybrid search combines dense vector search with keyword-based techniques like BM25 to improve recall, especially in noisy or long-text domains.\"\n",
    "  },\n",
    "  \"metadata\": {\n",
    "    \"dataset_split\": [\n",
    "      \"AI generated\",\n",
    "      \"base\"\n",
    "    ]\n",
    "  }\n",
    "}\n",
    "\n",
    "similarity_score = compare_semantic_similarity_v2(sample_run, sample_example)\n",
    "print(f\"Semantic similarity score: {similarity_score}\")"
   ]
  },
  {
   "cell_type": "code",
   "execution_count": null,
   "metadata": {},
   "outputs": [],
   "source": []
  }
 ],
 "metadata": {
  "kernelspec": {
   "display_name": "Python 3 (ipykernel)",
   "language": "python",
   "name": "python3"
  },
  "language_info": {
   "codemirror_mode": {
    "name": "ipython",
    "version": 3
   },
   "file_extension": ".py",
   "mimetype": "text/x-python",
   "name": "python",
   "nbconvert_exporter": "python",
   "pygments_lexer": "ipython3",
   "version": "3.13.0"
  }
 },
 "nbformat": 4,
 "nbformat_minor": 4
}
